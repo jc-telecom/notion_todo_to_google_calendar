{
 "cells": [
  {
   "cell_type": "code",
   "execution_count": 1,
   "metadata": {},
   "outputs": [
    {
     "data": {
      "text/plain": [
       "True"
      ]
     },
     "execution_count": 1,
     "metadata": {},
     "output_type": "execute_result"
    }
   ],
   "source": [
    "import requests\n",
    "import pandas as pd\n",
    "import os\n",
    "from dotenv import load_dotenv\n",
    "from datetime import datetime, timedelta\n",
    "load_dotenv()"
   ]
  },
  {
   "cell_type": "code",
   "execution_count": 2,
   "metadata": {},
   "outputs": [],
   "source": [
    "headers = {\n",
    "    \"Authorization\": \"Bearer \" + os.environ['NOTION_TOKEN'],\n",
    "    \"Content-Type\": \"application/json\",\n",
    "    \"Notion-Version\": \"2022-06-28\",\n",
    "}"
   ]
  },
  {
   "cell_type": "code",
   "execution_count": 3,
   "metadata": {},
   "outputs": [],
   "source": [
    "def get_pages(DATABASE_ID, num_pages=None):\n",
    "\n",
    "    url = f\"https://api.notion.com/v1/databases/{DATABASE_ID}/query\"\n",
    "\n",
    "    get_all = num_pages is None\n",
    "    page_size = 100 if get_all else num_pages\n",
    "\n",
    "    payload = {\"page_size\": page_size}\n",
    "    response = requests.post(url, json=payload, headers=headers)\n",
    "\n",
    "    data = response.json()\n",
    "\n",
    "    results = data[\"results\"]\n",
    "    while data[\"has_more\"]:\n",
    "        payload = {\"page_size\": page_size, \"start_cursor\": data[\"next_cursor\"]}\n",
    "        url = f\"https://api.notion.com/v1/databases/{DATABASE_ID}/query\"\n",
    "        response = requests.post(url, json=payload, headers=headers)\n",
    "        data = response.json()\n",
    "        results.extend(data[\"results\"])\n",
    "\n",
    "    return results"
   ]
  },
  {
   "cell_type": "code",
   "execution_count": 5,
   "metadata": {},
   "outputs": [],
   "source": [
    "def add_time(start_date, added_min=30):\n",
    "    added_date = datetime.strptime(start_date, \"%Y-%m-%dT%H:%M:%S.%f%z\") + timedelta(minutes=added_min)\n",
    "    return added_date.strftime(\"%Y-%m-%dT%H:%M:%S.%f%z\")"
   ]
  },
  {
   "cell_type": "code",
   "execution_count": 4,
   "metadata": {},
   "outputs": [
    {
     "data": {
      "text/plain": [
       "Index(['object', 'id', 'created_time', 'last_edited_time', 'created_by',\n",
       "       'last_edited_by', 'cover', 'icon', 'parent', 'archived', 'properties',\n",
       "       'url', 'public_url'],\n",
       "      dtype='object')"
      ]
     },
     "execution_count": 4,
     "metadata": {},
     "output_type": "execute_result"
    }
   ],
   "source": [
    "results = get_pages(os.environ[\"DATABASE_ID\"])\n",
    "df = pd.DataFrame(results)\n",
    "df = df.sort_values(by=['last_edited_time'], ascending=False)\n",
    "df.columns"
   ]
  },
  {
   "cell_type": "code",
   "execution_count": 16,
   "metadata": {},
   "outputs": [
    {
     "data": {
      "text/html": [
       "<div>\n",
       "<style scoped>\n",
       "    .dataframe tbody tr th:only-of-type {\n",
       "        vertical-align: middle;\n",
       "    }\n",
       "\n",
       "    .dataframe tbody tr th {\n",
       "        vertical-align: top;\n",
       "    }\n",
       "\n",
       "    .dataframe thead th {\n",
       "        text-align: right;\n",
       "    }\n",
       "</style>\n",
       "<table border=\"1\" class=\"dataframe\">\n",
       "  <thead>\n",
       "    <tr style=\"text-align: right;\">\n",
       "      <th></th>\n",
       "      <th>object</th>\n",
       "      <th>id</th>\n",
       "      <th>created_time</th>\n",
       "      <th>last_edited_time</th>\n",
       "      <th>created_by</th>\n",
       "      <th>last_edited_by</th>\n",
       "      <th>cover</th>\n",
       "      <th>icon</th>\n",
       "      <th>parent</th>\n",
       "      <th>archived</th>\n",
       "      <th>properties</th>\n",
       "      <th>url</th>\n",
       "      <th>public_url</th>\n",
       "    </tr>\n",
       "  </thead>\n",
       "  <tbody>\n",
       "  </tbody>\n",
       "</table>\n",
       "</div>"
      ],
      "text/plain": [
       "Empty DataFrame\n",
       "Columns: [object, id, created_time, last_edited_time, created_by, last_edited_by, cover, icon, parent, archived, properties, url, public_url]\n",
       "Index: []"
      ]
     },
     "execution_count": 16,
     "metadata": {},
     "output_type": "execute_result"
    }
   ],
   "source": [
    "#get all line where col properties contains \"start_date tobe able to add time\"\n",
    "for index, row in df.iterrows:\n",
    "    if in \"Postuler\" in str(row.properties):\n",
    "        print(index, str(row.properties))"
   ]
  },
  {
   "cell_type": "code",
   "execution_count": 8,
   "metadata": {},
   "outputs": [
    {
     "data": {
      "text/plain": [
       "'Envoyer mail à Julia pour entrer career fair'"
      ]
     },
     "execution_count": 8,
     "metadata": {},
     "output_type": "execute_result"
    }
   ],
   "source": [
    "properties = df.loc[20,\"properties\"]\n",
    "\" \".join([project_item[\"plain_text\"] for project_item in properties[\"Nom\"][\"title\"]])"
   ]
  },
  {
   "cell_type": "code",
   "execution_count": 8,
   "metadata": {},
   "outputs": [
    {
     "data": {
      "text/plain": [
       "{'Importance': {'id': 'FN%3DI',\n",
       "  'type': 'select',\n",
       "  'select': {'id': 'N<<x', 'name': '🟠 Moyenne', 'color': 'yellow'}},\n",
       " 'Sous-élément': {'id': 'NY%3A%7C',\n",
       "  'type': 'relation',\n",
       "  'relation': [],\n",
       "  'has_more': False},\n",
       " 'Notes': {'id': 'WViK', 'type': 'rich_text', 'rich_text': []},\n",
       " 'Date': {'id': '%5DCyE',\n",
       "  'type': 'date',\n",
       "  'date': {'start': '2024-01-11T16:30:00.000+01:00',\n",
       "   'end': '2024-01-11T16:45:00.000+01:00',\n",
       "   'time_zone': None}},\n",
       " 'Projet': {'id': '%5Deky',\n",
       "  'type': 'multi_select',\n",
       "  'multi_select': [{'id': '020a25aa-1993-42a5-b266-fd17bfed0d77',\n",
       "    'name': '📗 Doctorat',\n",
       "    'color': 'green'},\n",
       "   {'id': 'c79ad5b5-cce9-40e1-8e85-f7f025f2e278',\n",
       "    'name': '🎙 Conférences',\n",
       "    'color': 'yellow'}]},\n",
       " 'État': {'id': 'cM%5D%7B',\n",
       "  'type': 'status',\n",
       "  'status': {'id': '49faa935-9b75-4383-8919-a7ca52cf2c36',\n",
       "   'name': 'Terminé',\n",
       "   'color': 'green'}},\n",
       " 'élément parent': {'id': 'j%3FEp',\n",
       "  'type': 'relation',\n",
       "  'relation': [{'id': 'cf2e104d-e3a2-474b-bd7c-edfa1de35e6d'},\n",
       "   {'id': 'a8631420-735a-431d-9369-54742a38b937'}],\n",
       "  'has_more': False},\n",
       " 'Entreprise': {'id': 'wdDU', 'type': 'multi_select', 'multi_select': []},\n",
       " 'Nom': {'id': 'title',\n",
       "  'type': 'title',\n",
       "  'title': [{'type': 'text',\n",
       "    'text': {'content': 'Préparer appel avec Mathieu', 'link': None},\n",
       "    'annotations': {'bold': False,\n",
       "     'italic': False,\n",
       "     'strikethrough': False,\n",
       "     'underline': False,\n",
       "     'code': False,\n",
       "     'color': 'default'},\n",
       "    'plain_text': 'Préparer appel avec Mathieu',\n",
       "    'href': None}]}}"
      ]
     },
     "execution_count": 8,
     "metadata": {},
     "output_type": "execute_result"
    }
   ],
   "source": [
    "properties = df.loc[21,\"properties\"]\n",
    "\n",
    "properties"
   ]
  },
  {
   "cell_type": "code",
   "execution_count": 11,
   "metadata": {},
   "outputs": [
    {
     "data": {
      "text/plain": [
       "{'Importance': {'id': 'FN%3DI',\n",
       "  'type': 'select',\n",
       "  'select': {'id': 'vX`b', 'name': '🔴 Forte', 'color': 'red'}},\n",
       " 'Sous-élément': {'id': 'NY%3A%7C',\n",
       "  'type': 'relation',\n",
       "  'relation': [],\n",
       "  'has_more': False},\n",
       " 'Notes': {'id': 'WViK', 'type': 'rich_text', 'rich_text': []},\n",
       " 'Date': {'id': '%5DCyE', 'type': 'date', 'date': None},\n",
       " 'Projet': {'id': '%5Deky',\n",
       "  'type': 'multi_select',\n",
       "  'multi_select': [{'id': 'c79ad5b5-cce9-40e1-8e85-f7f025f2e278',\n",
       "    'name': '🎙 Conférences',\n",
       "    'color': 'yellow'}]},\n",
       " 'État': {'id': 'cM%5D%7B',\n",
       "  'type': 'status',\n",
       "  'status': {'id': '49faa935-9b75-4383-8919-a7ca52cf2c36',\n",
       "   'name': 'Terminé',\n",
       "   'color': 'green'}},\n",
       " 'élément parent': {'id': 'j%3FEp',\n",
       "  'type': 'relation',\n",
       "  'relation': [],\n",
       "  'has_more': False},\n",
       " 'Entreprise': {'id': 'wdDU', 'type': 'multi_select', 'multi_select': []},\n",
       " 'Nom': {'id': 'title',\n",
       "  'type': 'title',\n",
       "  'title': [{'type': 'text',\n",
       "    'text': {'content': 'Contacter ESCP pour possible thèse', 'link': None},\n",
       "    'annotations': {'bold': False,\n",
       "     'italic': False,\n",
       "     'strikethrough': False,\n",
       "     'underline': False,\n",
       "     'code': False,\n",
       "     'color': 'default'},\n",
       "    'plain_text': 'Contacter ESCP pour possible thèse',\n",
       "    'href': None}]}}"
      ]
     },
     "execution_count": 11,
     "metadata": {},
     "output_type": "execute_result"
    }
   ],
   "source": [
    "for index, row in df.iterrows():\n",
    "    try: \n",
    "        h = row[\"properties\"][\"Date\"][\"date\"][\"start\"]\n",
    "    except:\n",
    "        h = row[\"properties\"]\n",
    "        break\n",
    "h"
   ]
  },
  {
   "cell_type": "code",
   "execution_count": 16,
   "metadata": {},
   "outputs": [],
   "source": [
    "def get_parent_name(df, properties):\n",
    "    parents_id = [parent[\"id\"] for parent in properties[\"Sous-élément\"][\"relation\"]]\n",
    "    parents_name = \"\"\n",
    "    for parent_id in parents_id:\n",
    "        parents_name += \" \".join([parent_row[\"plain_text\"] for parent_row in df.loc[df['id'] == parent_id, \"properties\"].iloc[0][\"Nom\"][\"title\"]])\n",
    "    return parents_name\n",
    "\n",
    "def get_end_date(df, properties):\n",
    "    start_date = avoid_none(row, [\"properties\", \"Date\", \"date\", \"start\"])\n",
    "    if start_date == \"\" :\n",
    "        return \"\"\n",
    "    else:\n",
    "        return row[\"properties\"][\"Date\"][\"date\"][\"end\"] if row[\"properties\"][\"Date\"][\"date\"][\"end\"] is not None else add_time(row[\"properties\"][\"Date\"][\"date\"][\"start\"])\n",
    "                                                                                                                                                                                                                                                      \n",
    "# def avoid_none(row, path):\n",
    "#     try:\n",
    "#         for p in path:\n",
    "#             row = row[p]\n",
    "#         return row\n",
    "#     except:\n",
    "#         return \"\"\n",
    "def properties_to_df(df):\n",
    "    df_event = pd.DataFrame()\n",
    "    df_event[\"name\"] = df.apply(lambda row: \" \".join([project_item[\"plain_text\"] for project_item in row[\"properties\"][\"Nom\"][\"title\"]]), axis=1)\n",
    "\n",
    "        \n",
    "    # Get the name\n",
    "    df_event[\"name\"] = df.apply(lambda row: \" \".join([project_item[\"plain_text\"] for project_item in row[\"properties\"][\"Nom\"][\"title\"]]), axis=1)\n",
    "\n",
    "    # Get the task's importance\n",
    "    df_event[\"importance\"] = df.apply(lambda row: avoid_none(row, [\"properties\", \"Importance\", \"select\", \"name\"]), axis=1)\n",
    "    \n",
    "    # Get the task's notes\n",
    "    df_event[\"notes\"] = df.apply(lambda row: \" \".join([project_item[\"plain_text\"] for project_item in row[\"properties\"][\"Notes\"][\"rich_text\"]]), axis=1)  \n",
    "    \n",
    "    # Get dates\n",
    "    df_event[\"start_date\"] = df.apply(lambda row: datetime.fromisoformat(avoid_none(row, [\"properties\", \"Date\", \"date\", \"start\"])), axis=1)\n",
    "    df_event[\"end_date\"] = df.apply(lambda row: get_end_date(df, row[\"properties\"]), axis=1)\n",
    "    \n",
    "    # Get the task's project\n",
    "    df_event[\"project\"] = df.apply(lambda row: \" \".join([project_item[\"name\"] for project_item in row[\"properties\"][\"Projet\"][\"multi_select\"]]), axis=1)\n",
    "    \n",
    "    # Get parent_element \n",
    "    df_event[\"parents_name\"] = df.apply(lambda row:get_parent_name(df, row[\"properties\"]), axis=1)\n",
    "    return df_event"
   ]
  },
  {
   "cell_type": "code",
   "execution_count": null,
   "metadata": {},
   "outputs": [],
   "source": [
    "properties_to_df"
   ]
  }
 ],
 "metadata": {
  "kernelspec": {
   "display_name": "env.nosync",
   "language": "python",
   "name": "python3"
  },
  "language_info": {
   "codemirror_mode": {
    "name": "ipython",
    "version": 3
   },
   "file_extension": ".py",
   "mimetype": "text/x-python",
   "name": "python",
   "nbconvert_exporter": "python",
   "pygments_lexer": "ipython3",
   "version": "3.10.11"
  }
 },
 "nbformat": 4,
 "nbformat_minor": 2
}
