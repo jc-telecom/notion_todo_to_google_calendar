{
 "cells": [
  {
   "cell_type": "code",
   "execution_count": 7,
   "metadata": {},
   "outputs": [],
   "source": []
  },
  {
   "cell_type": "code",
   "execution_count": 10,
   "metadata": {},
   "outputs": [
    {
     "ename": "ImportError",
     "evalue": "cannot import name 'avoid_none' from 'utils' (/Users/jules/Documents/Jules/Code/notion/utils.py)",
     "output_type": "error",
     "traceback": [
      "\u001b[0;31m---------------------------------------------------------------------------\u001b[0m",
      "\u001b[0;31mImportError\u001b[0m                               Traceback (most recent call last)",
      "Cell \u001b[0;32mIn[10], line 1\u001b[0m\n\u001b[0;32m----> 1\u001b[0m \u001b[38;5;28;01mfrom\u001b[39;00m \u001b[38;5;21;01mnotion\u001b[39;00m \u001b[38;5;28;01mimport\u001b[39;00m get_notion_db_entries\n\u001b[1;32m      2\u001b[0m \u001b[38;5;66;03m# from calendar_api import delete_event, get_events, add_event\u001b[39;00m\n\u001b[1;32m      3\u001b[0m get_ipython()\u001b[38;5;241m.\u001b[39mrun_line_magic(\u001b[38;5;124m'\u001b[39m\u001b[38;5;124mrun\u001b[39m\u001b[38;5;124m'\u001b[39m, \u001b[38;5;124m'\u001b[39m\u001b[38;5;124mnotion.py\u001b[39m\u001b[38;5;124m'\u001b[39m)\n",
      "File \u001b[0;32m~/Documents/Jules/Code/notion/notion.py:1\u001b[0m\n\u001b[0;32m----> 1\u001b[0m \u001b[38;5;28;01mfrom\u001b[39;00m \u001b[38;5;21;01mutils\u001b[39;00m \u001b[38;5;28;01mimport\u001b[39;00m avoid_none, add_time, convert_notion_date_to_iso\n\u001b[1;32m      2\u001b[0m \u001b[38;5;28;01mimport\u001b[39;00m \u001b[38;5;21;01mrequests\u001b[39;00m\n\u001b[1;32m      3\u001b[0m \u001b[38;5;28;01mimport\u001b[39;00m \u001b[38;5;21;01mpandas\u001b[39;00m \u001b[38;5;28;01mas\u001b[39;00m \u001b[38;5;21;01mpd\u001b[39;00m\n",
      "\u001b[0;31mImportError\u001b[0m: cannot import name 'avoid_none' from 'utils' (/Users/jules/Documents/Jules/Code/notion/utils.py)"
     ]
    }
   ],
   "source": [
    "%load_ext autoreload\n",
    "%autoreload 2\n",
    "# from notion import get_notion_db_entries\n",
    "# from calendar_api import delete_event, get_events, add_event\n",
    "%run notion.py\n",
    "%run calendar_api.py\n",
    "%run utils.py\n",
    "\n",
    "from datetime import datetime, timedelta, timezone\n",
    "from utils import paris_tz\n",
    "import json\n",
    "\n",
    "update_threshold = 5  # days\n",
    "\n",
    "\n",
    "# # Get all the dataframe with the events information\n",
    "# df_events = notion_db_entries_to_event_df()\n",
    "\n",
    "# # Keep only the events that have a date\n",
    "# df_events = df_events[(df_events[\"start_date\"] != \"\") & (\n",
    "#     df_events[\"end_date\"] != \"\") & (df_events[\"summary\"] != \"\")]\n",
    "\n",
    "# # Get last edited date else say it's 5 days before now\n",
    "# # try:\n",
    "# #     with open('meta.json', 'r') as meta_file:\n",
    "# #         data = json.load(meta_file)\n",
    "# #         last_updated_time = datetime.fromisoformat(\n",
    "# #             data[\"last_updated_time\"])\n",
    "# # except Exception as error:\n",
    "# #     print(\"An error occured while reading the meta file\", error)\n",
    "# #     last_updated_time = (datetime.now(paris_tz) -\n",
    "# #                          timedelta(days=5)).isoformat()\n",
    "\n",
    "\n",
    "# update_start_date = (datetime.now(paris_tz) -\n",
    "#                      timedelta(days=update_threshold)).isoformat()\n",
    "\n",
    "# # Keep only the events with edited time higher that last updated date\n",
    "\n",
    "notion_db_entries_to_event_df().sort_values(by=\"start_date\", ascending=False).head(10)"
   ]
  },
  {
   "cell_type": "code",
   "execution_count": null,
   "metadata": {},
   "outputs": [],
   "source": []
  },
  {
   "cell_type": "code",
   "execution_count": null,
   "metadata": {},
   "outputs": [],
   "source": [
    "df_events = df_events[df_events[\"start_date\"] > update_start_date]\n",
    "df_events.shape"
   ]
  },
  {
   "cell_type": "code",
   "execution_count": null,
   "metadata": {},
   "outputs": [],
   "source": [
    "# Get all the events from two days before and for the next days\n",
    "df_prev_events = get_events(update_start_date)\n",
    "df_prev_events = df_prev_events.sort_values(by=[\"start_date\"], ascending=True)\n",
    "df_prev_events"
   ]
  },
  {
   "cell_type": "code",
   "execution_count": null,
   "metadata": {},
   "outputs": [],
   "source": [
    "df_events = df_events.sort_values(by=[\"start_date\"], ascending=True)\n",
    "df_events"
   ]
  },
  {
   "cell_type": "code",
   "execution_count": null,
   "metadata": {},
   "outputs": [],
   "source": [
    "# Create 4 cats : New, updated, unchanged, deleted\n",
    "df_new_events = df_events[~df_events[\"id\"].isin(df_prev_events[\"id\"])]\n"
   ]
  },
  {
   "cell_type": "code",
   "execution_count": null,
   "metadata": {},
   "outputs": [],
   "source": []
  },
  {
   "cell_type": "code",
   "execution_count": null,
   "metadata": {},
   "outputs": [],
   "source": [
    "df_merged = pd.merge(df_events, df_prev_events, on='id', suffixes=('_current', '_prev'))\n",
    "df_updated_events = df_merged[\n",
    "    (df_merged['summary_current'] != df_merged['summary_prev']) |\n",
    "    (df_merged['start_date_current'] != df_merged['start_date_prev']) |\n",
    "    (df_merged['end_date_current'] != df_merged['end_date_prev']) |\n",
    "    (df_merged['description_current'] != df_merged['description_prev'])\n",
    "]\n",
    "df_updated_events"
   ]
  },
  {
   "cell_type": "code",
   "execution_count": null,
   "metadata": {},
   "outputs": [],
   "source": [
    "\n",
    "df_deleted_events = df_prev_events[~df_prev_events[\"id\"].isin(df_events[\"id\"])]"
   ]
  },
  {
   "cell_type": "code",
   "execution_count": null,
   "metadata": {},
   "outputs": [],
   "source": [
    "df_new_events"
   ]
  },
  {
   "cell_type": "code",
   "execution_count": null,
   "metadata": {},
   "outputs": [],
   "source": [
    "# New : create the event\n",
    "df_new_events\n",
    "for index, row in df_new_events.iterrows():\n",
    "    add_event(row[\"id\"], row[\"summary\"], row[\"start_date\"],\n",
    "              row[\"end_date\"], description=row[\"description\"])\n",
    "# Update get the event and update it\n",
    "# for index, row in df_updated_events.iterrows():\n",
    "#     delete_event(row[\"id\"])\n",
    "#     add_event(row[\"id\"], row[\"summary\"], row[\"start_date\"],\n",
    "#               row[\"end_date\"], description=row[\"description\"])\n",
    "\n",
    "for index, row in df_deleted_events.iterrows():\n",
    "    delete_event(row[\"id\"])\n",
    "    \n",
    "    \n",
    "# update the meta file\n",
    "# last_updated_time = {\n",
    "#     \"last_updated_time\": datetime.now(paris_tz).isoformat()}\n",
    "# with open(\"meta.json\", \"w\") as meta:\n",
    "#     json.dump(last_updated_time, meta)"
   ]
  }
 ],
 "metadata": {
  "kernelspec": {
   "display_name": "env.nosync",
   "language": "python",
   "name": "python3"
  },
  "language_info": {
   "codemirror_mode": {
    "name": "ipython",
    "version": 3
   },
   "file_extension": ".py",
   "mimetype": "text/x-python",
   "name": "python",
   "nbconvert_exporter": "python",
   "pygments_lexer": "ipython3",
   "version": "3.10.11"
  }
 },
 "nbformat": 4,
 "nbformat_minor": 2
}
